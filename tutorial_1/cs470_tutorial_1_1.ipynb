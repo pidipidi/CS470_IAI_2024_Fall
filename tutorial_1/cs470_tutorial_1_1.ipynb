{
  "cells": [
    {
      "cell_type": "markdown",
      "metadata": {
        "id": "6rt42VWZSpHV"
      },
      "source": [
        "[![Open In Colab](https://colab.research.google.com/assets/colab-badge.svg)](https://colab.research.google.com/github/pidipidi/CS470_IAI_2024_Fall/blob/main/tutorial_1/cs470_tutorial_1_1.ipynb)\n",
        "\n",
        "# **CS470 Deep Learning Tutorial**\n",
        "* **Google Collab Tutorial (How to use)**  \n",
        "* DL Tutorial with Numpy  \n",
        "* DL Tutorial with PyTorch\n",
        "\n",
        "    \n"
      ]
    },
    {
      "cell_type": "markdown",
      "metadata": {
        "id": "cW14P9qKkVAT"
      },
      "source": [
        "## **1. Google Colab Tutorial**"
      ]
    },
    {
      "cell_type": "markdown",
      "metadata": {
        "id": "rUYXHl_uGSb7"
      },
      "source": [
        "### Variables / Casting / Type\n",
        "\n",
        "In Python, a variable is created when you first assign a value to it."
      ]
    },
    {
      "cell_type": "code",
      "execution_count": null,
      "metadata": {
        "colab": {
          "base_uri": "https://localhost:8080/"
        },
        "id": "MJpjCPWXEpjI",
        "outputId": "0bebd382-f04c-40d3-e2ee-97e32ac3613f"
      },
      "outputs": [
        {
          "data": {
            "text/plain": [
              "86400"
            ]
          },
          "execution_count": 1,
          "metadata": {},
          "output_type": "execute_result"
        }
      ],
      "source": [
        "seconds_in_a_day = 24 * 60 * 60\n",
        "seconds_in_a_day\n"
      ]
    },
    {
      "cell_type": "markdown",
      "metadata": {
        "id": "TPw6cPnK4YZv"
      },
      "source": [
        "Variables do not necessarily need to be declared with a specific type."
      ]
    },
    {
      "cell_type": "code",
      "execution_count": null,
      "metadata": {
        "colab": {
          "base_uri": "https://localhost:8080/"
        },
        "id": "c7nrRFWDEtw-",
        "outputId": "ff133b24-918a-4f02-a655-6f1caebecc28"
      },
      "outputs": [
        {
          "name": "stdout",
          "output_type": "stream",
          "text": [
            "KAIST\n"
          ]
        }
      ],
      "source": [
        "var = 1\n",
        "name = 'KAIST'\n",
        "print(name)"
      ]
    },
    {
      "cell_type": "markdown",
      "metadata": {
        "id": "1XOuzkUu5yEf"
      },
      "source": [
        "If you want to specify the data type of a variable, this can be done with casting."
      ]
    },
    {
      "cell_type": "code",
      "execution_count": null,
      "metadata": {
        "colab": {
          "base_uri": "https://localhost:8080/"
        },
        "id": "cx9yGlhZ5dkr",
        "outputId": "50b68ae5-25ff-4e02-b2f9-e4203b5a70c8"
      },
      "outputs": [
        {
          "name": "stdout",
          "output_type": "stream",
          "text": [
            "<class 'int'>\n",
            "<class 'str'>\n"
          ]
        }
      ],
      "source": [
        "print(type(var))\n",
        "var = str(1)\n",
        "print(type(var))"
      ]
    },
    {
      "cell_type": "markdown",
      "metadata": {
        "id": "Vkfq9-nqQ1G9"
      },
      "source": [
        "Colab notebook also supports LaTeX - a language for mathematical notation."
      ]
    },
    {
      "cell_type": "markdown",
      "metadata": {
        "id": "8JgRmjwaIcTK"
      },
      "source": [
        "$\\sqrt{3x-1}+(1+x)^2$"
      ]
    },
    {
      "cell_type": "markdown",
      "metadata": {
        "id": "inf--dfhA3eE"
      },
      "source": [
        "## Display & Output"
      ]
    },
    {
      "cell_type": "markdown",
      "metadata": {
        "id": "3bfa6NcRC85H"
      },
      "source": [
        "The print() function in Python is used to display text or output to the console. It can accept one or more arguments separated by commas, which are then displayed as text on the screen. The print() function is commonly used for debugging and displaying information to the user, such as program output or error messages."
      ]
    },
    {
      "cell_type": "code",
      "execution_count": null,
      "metadata": {
        "colab": {
          "base_uri": "https://localhost:8080/"
        },
        "id": "1JSPRpKYA7QF",
        "outputId": "ab6a2ee8-5701-48fd-fa89-f3c20f8bac08"
      },
      "outputs": [
        {
          "name": "stdout",
          "output_type": "stream",
          "text": [
            "1234\n",
            "KAIST\n",
            "Introduction to AI\n"
          ]
        }
      ],
      "source": [
        "print(1234)\n",
        "print(\"KAIST\")\n",
        "print(\"Introduction\",\"to\", \"AI\")\n"
      ]
    },
    {
      "cell_type": "markdown",
      "metadata": {
        "id": "i4426A0cDaJg"
      },
      "source": [
        "You can also pass multiple arguments to print() function and separate them with a comma. The print() function will automatically add a space between the arguments:"
      ]
    },
    {
      "cell_type": "code",
      "execution_count": null,
      "metadata": {
        "colab": {
          "base_uri": "https://localhost:8080/"
        },
        "id": "fsccAYzCCz-q",
        "outputId": "481a524a-61c5-4d45-af2b-5dd0f96bebea"
      },
      "outputs": [
        {
          "name": "stdout",
          "output_type": "stream",
          "text": [
            "The value of x is 42 and the value of y is 3.14\n"
          ]
        }
      ],
      "source": [
        "x = 42\n",
        "y = 3.14\n",
        "print(\"The value of x is\", x, \"and the value of y is\", y)"
      ]
    },
    {
      "cell_type": "markdown",
      "metadata": {
        "id": "fA4BdhADDwBi"
      },
      "source": [
        "If you want C style, you can also use the print() function as following"
      ]
    },
    {
      "cell_type": "code",
      "execution_count": null,
      "metadata": {
        "colab": {
          "base_uri": "https://localhost:8080/"
        },
        "id": "_4792OyTD1gS",
        "outputId": "11442b7a-7678-4744-ac88-540e0acf430f"
      },
      "outputs": [
        {
          "name": "stdout",
          "output_type": "stream",
          "text": [
            "10*20=200\n"
          ]
        }
      ],
      "source": [
        "print('%d*%d=%d' % (10, 20, 10*20))"
      ]
    },
    {
      "cell_type": "markdown",
      "metadata": {
        "id": "me_Uj7LBHjIL"
      },
      "source": [
        "## Shell commands in IPython\n",
        "\n",
        "You can use various UNIX commands in the cell. The difference is you have to use each command with !. For example, you have to use ls instead of !ls.\n",
        "(More detail: https://jupyter-tutorial.readthedocs.io/en/stable/workspace/ipython/shell.html)\n",
        "\n"
      ]
    },
    {
      "cell_type": "code",
      "execution_count": null,
      "metadata": {
        "colab": {
          "base_uri": "https://localhost:8080/"
        },
        "id": "c87sz24-HO0S",
        "outputId": "259b5f56-4f9c-4da8-bf89-93b07fab8087"
      },
      "outputs": [
        {
          "name": "stdout",
          "output_type": "stream",
          "text": [
            "sample_data\n"
          ]
        }
      ],
      "source": [
        "!ls ./"
      ]
    },
    {
      "cell_type": "code",
      "execution_count": null,
      "metadata": {
        "colab": {
          "base_uri": "https://localhost:8080/"
        },
        "id": "bsXETOy28UW_",
        "outputId": "bee0b0c9-8dce-4574-8826-b80c4529770d"
      },
      "outputs": [
        {
          "name": "stdout",
          "output_type": "stream",
          "text": [
            "/content\n"
          ]
        }
      ],
      "source": [
        "!pwd ./"
      ]
    },
    {
      "cell_type": "code",
      "execution_count": null,
      "metadata": {
        "colab": {
          "base_uri": "https://localhost:8080/"
        },
        "id": "giqcDDdy-ANS",
        "outputId": "b0195580-04af-4f21-d184-8aecdb88a6da"
      },
      "outputs": [
        {
          "name": "stdout",
          "output_type": "stream",
          "text": [
            "sample_data  test.py\n",
            "test.py\n"
          ]
        }
      ],
      "source": [
        "!touch test.py\n",
        "!ls\n",
        "!mkdir test_folder\n",
        "!mv test.py ./test_folder\n",
        "!ls ./test_folder"
      ]
    },
    {
      "cell_type": "markdown",
      "metadata": {
        "id": "R4E8YKbSI4QE"
      },
      "source": [
        "## Importing modules & libraries\n",
        "\n",
        "To make use of the functions in a module, you’ll need to import the module with an import statement.\n",
        "\n"
      ]
    },
    {
      "cell_type": "code",
      "execution_count": null,
      "metadata": {
        "colab": {
          "base_uri": "https://localhost:8080/"
        },
        "id": "zx3FYap6HXJ1",
        "outputId": "653f6e1b-6419-4699-d446-5e9b4b5ec8a6"
      },
      "outputs": [
        {
          "name": "stdout",
          "output_type": "stream",
          "text": [
            "Sleeping\n",
            "Done Sleeping\n"
          ]
        }
      ],
      "source": [
        "# You can suspend execution of the running cell for the given number of seconds.\n",
        "import time\n",
        "print(\"Sleeping\")\n",
        "time.sleep(30) # sleep for a while; interrupt me!\n",
        "print(\"Done Sleeping\")"
      ]
    },
    {
      "cell_type": "markdown",
      "metadata": {
        "id": "AxGnEgKbE3S8"
      },
      "source": [
        "To import a library that's not in Colaboratory by default, you can use install the library by using `!pip install` or `!apt-get install`.\n",
        "\n",
        "* **PIP** is used to download and install packages directly from PyPI. PyPI is hosted by Python Software Foundation.\n",
        "\n",
        "* **apt-get** is used to download and install packages from Ubuntu repositories which are hosted by Canonical."
      ]
    },
    {
      "cell_type": "code",
      "execution_count": null,
      "metadata": {
        "colab": {
          "base_uri": "https://localhost:8080/"
        },
        "id": "qWpRFmR2JQu-",
        "outputId": "7b52adba-8bc6-42bb-e45d-edab274bef93"
      },
      "outputs": [
        {
          "name": "stdout",
          "output_type": "stream",
          "text": [
            "Requirement already satisfied: matplotlib-venn in /usr/local/lib/python3.10/dist-packages (1.1.1)\n",
            "Requirement already satisfied: matplotlib in /usr/local/lib/python3.10/dist-packages (from matplotlib-venn) (3.7.1)\n",
            "Requirement already satisfied: numpy in /usr/local/lib/python3.10/dist-packages (from matplotlib-venn) (1.26.4)\n",
            "Requirement already satisfied: scipy in /usr/local/lib/python3.10/dist-packages (from matplotlib-venn) (1.13.1)\n",
            "Requirement already satisfied: contourpy>=1.0.1 in /usr/local/lib/python3.10/dist-packages (from matplotlib->matplotlib-venn) (1.3.0)\n",
            "Requirement already satisfied: cycler>=0.10 in /usr/local/lib/python3.10/dist-packages (from matplotlib->matplotlib-venn) (0.12.1)\n",
            "Requirement already satisfied: fonttools>=4.22.0 in /usr/local/lib/python3.10/dist-packages (from matplotlib->matplotlib-venn) (4.53.1)\n",
            "Requirement already satisfied: kiwisolver>=1.0.1 in /usr/local/lib/python3.10/dist-packages (from matplotlib->matplotlib-venn) (1.4.7)\n",
            "Requirement already satisfied: packaging>=20.0 in /usr/local/lib/python3.10/dist-packages (from matplotlib->matplotlib-venn) (24.1)\n",
            "Requirement already satisfied: pillow>=6.2.0 in /usr/local/lib/python3.10/dist-packages (from matplotlib->matplotlib-venn) (10.4.0)\n",
            "Requirement already satisfied: pyparsing>=2.3.1 in /usr/local/lib/python3.10/dist-packages (from matplotlib->matplotlib-venn) (3.1.4)\n",
            "Requirement already satisfied: python-dateutil>=2.7 in /usr/local/lib/python3.10/dist-packages (from matplotlib->matplotlib-venn) (2.8.2)\n",
            "Requirement already satisfied: six>=1.5 in /usr/local/lib/python3.10/dist-packages (from python-dateutil>=2.7->matplotlib->matplotlib-venn) (1.16.0)\n"
          ]
        }
      ],
      "source": [
        "!pip install matplotlib-venn"
      ]
    },
    {
      "cell_type": "code",
      "execution_count": null,
      "metadata": {
        "colab": {
          "base_uri": "https://localhost:8080/"
        },
        "id": "EogtVuaDJRee",
        "outputId": "4e657315-7fd0-47d1-e323-d43abae706fd"
      },
      "outputs": [
        {
          "name": "stdout",
          "output_type": "stream",
          "text": [
            "Reading package lists... Done\n",
            "Building dependency tree... Done\n",
            "Reading state information... Done\n",
            "Suggested packages:\n",
            "  python-numpy-doc python3-pytest\n",
            "The following NEW packages will be installed:\n",
            "  python3-numpy\n",
            "0 upgraded, 1 newly installed, 0 to remove and 49 not upgraded.\n",
            "Need to get 3,467 kB of archives.\n",
            "After this operation, 18.9 MB of additional disk space will be used.\n",
            "Get:1 http://archive.ubuntu.com/ubuntu jammy-updates/main amd64 python3-numpy amd64 1:1.21.5-1ubuntu22.04.1 [3,467 kB]\n",
            "Fetched 3,467 kB in 1s (2,312 kB/s)\n",
            "Selecting previously unselected package python3-numpy.\n",
            "(Reading database ... 123599 files and directories currently installed.)\n",
            "Preparing to unpack .../python3-numpy_1%3a1.21.5-1ubuntu22.04.1_amd64.deb ...\n",
            "Unpacking python3-numpy (1:1.21.5-1ubuntu22.04.1) ...\n",
            "Setting up python3-numpy (1:1.21.5-1ubuntu22.04.1) ...\n"
          ]
        }
      ],
      "source": [
        "!apt-get install -y python3-numpy"
      ]
    },
    {
      "cell_type": "markdown",
      "metadata": {
        "id": "DOY_ICkYJbTj"
      },
      "source": [
        "You can also install 7zip reader, libarchive"
      ]
    },
    {
      "cell_type": "code",
      "execution_count": null,
      "metadata": {
        "colab": {
          "base_uri": "https://localhost:8080/"
        },
        "id": "eMFiMYO_JXrM",
        "outputId": "5a4f2097-ded5-4d30-9dfd-f87181cecfc9"
      },
      "outputs": [
        {
          "name": "stdout",
          "output_type": "stream",
          "text": [
            "Selecting previously unselected package libarchive-dev:amd64.\n",
            "(Reading database ... \r(Reading database ... 5%\r(Reading database ... 10%\r(Reading database ... 15%\r(Reading database ... 20%\r(Reading database ... 25%\r(Reading database ... 30%\r(Reading database ... 35%\r(Reading database ... 40%\r(Reading database ... 45%\r(Reading database ... 50%\r(Reading database ... 55%\r(Reading database ... 60%\r(Reading database ... 65%\r(Reading database ... 70%\r(Reading database ... 75%\r(Reading database ... 80%\r(Reading database ... 85%\r(Reading database ... 90%\r(Reading database ... 95%\r(Reading database ... 100%\r(Reading database ... 124383 files and directories currently installed.)\n",
            "Preparing to unpack .../libarchive-dev_3.6.0-1ubuntu1.1_amd64.deb ...\n",
            "Unpacking libarchive-dev:amd64 (3.6.0-1ubuntu1.1) ...\n",
            "Setting up libarchive-dev:amd64 (3.6.0-1ubuntu1.1) ...\n",
            "Processing triggers for man-db (2.10.2-1) ...\n",
            "Collecting libarchive-c\n",
            "  Downloading libarchive_c-5.1-py2.py3-none-any.whl.metadata (5.3 kB)\n",
            "Downloading libarchive_c-5.1-py2.py3-none-any.whl (15 kB)\n",
            "Installing collected packages: libarchive-c\n",
            "Successfully installed libarchive-c-5.1\n"
          ]
        }
      ],
      "source": [
        "# https://pypi.python.org/pypi/libarchive-c\n",
        "!apt-get -qq install -y libarchive-dev && pip install -U libarchive-c\n",
        "import libarchive"
      ]
    },
    {
      "cell_type": "markdown",
      "metadata": {
        "id": "sLLHc38fJphT"
      },
      "source": [
        "Install GraphViz & PyDot\n"
      ]
    },
    {
      "cell_type": "code",
      "execution_count": null,
      "metadata": {
        "colab": {
          "base_uri": "https://localhost:8080/"
        },
        "id": "BX-7ozcjJq_h",
        "outputId": "801557c0-5486-44d8-c6b2-948eea55dedf"
      },
      "outputs": [
        {
          "name": "stdout",
          "output_type": "stream",
          "text": [
            "Requirement already satisfied: pydot in /usr/local/lib/python3.10/dist-packages (3.0.1)\n",
            "Requirement already satisfied: pyparsing>=3.0.9 in /usr/local/lib/python3.10/dist-packages (from pydot) (3.1.4)\n"
          ]
        }
      ],
      "source": [
        "# https://pypi.python.org/pypi/pydot\n",
        "!apt-get -qq install -y graphviz && pip install pydot\n",
        "import pydot"
      ]
    },
    {
      "cell_type": "markdown",
      "metadata": {
        "id": "CyUVZaMuK3qk"
      },
      "source": [
        "##  Google Colab with GitHub\n",
        "\n",
        "### How to get an access to the assignment (github)\n",
        "- Navigate to http://colab.research.google.com/github.\n",
        "- Enter a github url as https://github.com/pidipidi/CS470_IAI_2024_Fall\n",
        "- Click the \"Include Private Repos\" checkbox.\n",
        "- In the popup window, sign-in to your Github account and authorize Colab to read the private files.\n",
        "- Your private repositories and notebooks will now be available via the github navigation pane.\n",
        "\n",
        "### Enabling and testing the GPU\n",
        "\n",
        "First, you'll need to enable GPUs for the notebook:\n",
        "\n",
        "- Navigate to Edit→Notebook Settings\n",
        "- select GPU from the Hardware Accelerator drop-down\n",
        "\n",
        "Next, we'll confirm that we can connect to the GPU with pytorch:\n"
      ]
    },
    {
      "cell_type": "code",
      "execution_count": null,
      "metadata": {
        "colab": {
          "base_uri": "https://localhost:8080/",
          "height": 35
        },
        "id": "ZR1fHUR-Lxsf",
        "outputId": "3c956aaf-3917-4710-c02f-bfdcf9672bcd"
      },
      "outputs": [
        {
          "data": {
            "application/vnd.google.colaboratory.intrinsic+json": {
              "type": "string"
            },
            "text/plain": [
              "'Tesla T4'"
            ]
          },
          "execution_count": 15,
          "metadata": {},
          "output_type": "execute_result"
        }
      ],
      "source": [
        "import torch\n",
        "torch.cuda.is_available()\n",
        "torch.cuda.device_count()\n",
        "torch.cuda.current_device()\n",
        "torch.cuda.device(0)\n",
        "torch.cuda.get_device_name(0)"
      ]
    }
  ],
  "metadata": {
    "accelerator": "GPU",
    "colab": {
      "gpuType": "T4",
      "provenance": []
    },
    "kernelspec": {
      "display_name": "Python 3",
      "name": "python3"
    },
    "language_info": {
      "name": "python"
    }
  },
  "nbformat": 4,
  "nbformat_minor": 0
}
